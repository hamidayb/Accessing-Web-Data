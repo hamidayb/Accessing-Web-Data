{
  "nbformat": 4,
  "nbformat_minor": 0,
  "metadata": {
    "colab": {
      "name": "Accessing Web Data",
      "provenance": []
    },
    "kernelspec": {
      "name": "python3",
      "display_name": "Python 3"
    }
  },
  "cells": [
    {
      "cell_type": "markdown",
      "metadata": {
        "id": "JXVLqiKsGNQV",
        "colab_type": "text"
      },
      "source": [
        "# ***ACCESSING DATA FROM WEB***"
      ]
    },
    {
      "cell_type": "markdown",
      "metadata": {
        "id": "P4r9WigXGUtX",
        "colab_type": "text"
      },
      "source": [
        "Data can be accessed directly from the web by creating socket and then request data from the server."
      ]
    },
    {
      "cell_type": "markdown",
      "metadata": {
        "id": "AzuMLZE_KGvC",
        "colab_type": "text"
      },
      "source": [
        "We can access data from web by using socket and urllib libraries of python."
      ]
    },
    {
      "cell_type": "markdown",
      "metadata": {
        "id": "HN3QrhQjKc9I",
        "colab_type": "text"
      },
      "source": [
        "# ***1.  VIA \" SOCKET \" LIBRARY**"
      ]
    },
    {
      "cell_type": "code",
      "metadata": {
        "id": "LrwSEIhQGtWh",
        "colab_type": "code",
        "colab": {}
      },
      "source": [
        "import socket"
      ],
      "execution_count": 12,
      "outputs": []
    },
    {
      "cell_type": "markdown",
      "metadata": {
        "id": "QnA2CWH-GnjV",
        "colab_type": "text"
      },
      "source": [
        "**CREATING A SOCKET**"
      ]
    },
    {
      "cell_type": "code",
      "metadata": {
        "id": "0H9iOzn0GxNX",
        "colab_type": "code",
        "colab": {}
      },
      "source": [
        "mysock = socket.socket(socket.AF_INET, socket.SOCK_STREAM)"
      ],
      "execution_count": 13,
      "outputs": []
    },
    {
      "cell_type": "markdown",
      "metadata": {
        "id": "gCn-ENdKHCrG",
        "colab_type": "text"
      },
      "source": [
        "**CREATING A CONNECTION WITH HOST** \n",
        "\n",
        "For this you have to provide the host name and the port number."
      ]
    },
    {
      "cell_type": "code",
      "metadata": {
        "id": "1g47NhqtHeQy",
        "colab_type": "code",
        "colab": {}
      },
      "source": [
        "mysock.connect((\"data.pr4e.org\",80))"
      ],
      "execution_count": 14,
      "outputs": []
    },
    {
      "cell_type": "markdown",
      "metadata": {
        "id": "lzYsU4z6H1ix",
        "colab_type": "text"
      },
      "source": [
        "**MAKING A REQUEST TO SERVER**\n",
        "\n",
        "For this, you have to encode your request to binary because packets are transmitted in binary form. So encode() method is used to convert our request which is in string to a binary value."
      ]
    },
    {
      "cell_type": "code",
      "metadata": {
        "id": "k_BkpPcmH9gH",
        "colab_type": "code",
        "colab": {}
      },
      "source": [
        "cmd = \"GET http://data.pr4e.org/intro-short.txt HTTP/1.0\\r\\n\\r\\n\".encode()"
      ],
      "execution_count": 15,
      "outputs": []
    },
    {
      "cell_type": "code",
      "metadata": {
        "id": "Ne70UgOAIb_e",
        "colab_type": "code",
        "colab": {
          "base_uri": "https://localhost:8080/",
          "height": 34
        },
        "outputId": "19ffc92b-157c-4160-fe75-074546fcaf15"
      },
      "source": [
        "mysock.send(cmd)"
      ],
      "execution_count": 16,
      "outputs": [
        {
          "output_type": "execute_result",
          "data": {
            "text/plain": [
              "53"
            ]
          },
          "metadata": {
            "tags": []
          },
          "execution_count": 16
        }
      ]
    },
    {
      "cell_type": "markdown",
      "metadata": {
        "id": "aYNn68psIlXO",
        "colab_type": "text"
      },
      "source": [
        "**FETCHING RECEIVED DATA FROM SERVER**\n",
        "\n",
        "The data received from server is in binary form. So you have to decode it into string using decode() method."
      ]
    },
    {
      "cell_type": "code",
      "metadata": {
        "id": "DkUx1tCOI7vI",
        "colab_type": "code",
        "colab": {
          "base_uri": "https://localhost:8080/",
          "height": 442
        },
        "outputId": "a95b6033-f375-4af7-85e2-24a00b7e43a1"
      },
      "source": [
        "while True:\n",
        "  data = mysock.recv(512)   # Packet of 512 Bytes of data is being received\n",
        "  if(len(data)<1):\n",
        "    break\n",
        "  print(data.decode())"
      ],
      "execution_count": 17,
      "outputs": [
        {
          "output_type": "stream",
          "text": [
            "HTTP/1.1 200 OK\r\n",
            "Date: Sun, 06 Sep 2020 06:42:50 GMT\r\n",
            "Server: Apache/2.4.18 (Ubuntu)\r\n",
            "Last-Modified: Sat, 13 May 2017 11:22:22 GMT\r\n",
            "ETag: \"1d3-54f6609240717\"\r\n",
            "Accept-Ranges: bytes\r\n",
            "Content-Length: 467\r\n",
            "Cache-Control: max-age=0, no-cache, no-store, must-revalidate\r\n",
            "Pragma: no-cache\r\n",
            "Expires: Wed, 11 Jan 1984 05:00:00 GMT\r\n",
            "Connection: close\r\n",
            "Content-Type: text/plain\r\n",
            "\r\n",
            "Why should you learn to write programs?\n",
            "\n",
            "Writing programs (or programming) is a very creative \n",
            "and rewarding activity.  You can write programs\n",
            " for \n",
            "many reasons, ranging from making your living to solving\n",
            "a difficult data analysis problem to having fun to helping\n",
            "someone else solve a problem.  This book assumes that \n",
            "everyone needs to know how to program, and that once \n",
            "you know how to program you will figure out what you want \n",
            "to do with your newfound skills.  \n",
            "\n"
          ],
          "name": "stdout"
        }
      ]
    },
    {
      "cell_type": "markdown",
      "metadata": {
        "id": "z5qQuyfCJfBm",
        "colab_type": "text"
      },
      "source": [
        "**CLOSING CONNECTION**"
      ]
    },
    {
      "cell_type": "code",
      "metadata": {
        "id": "a0_cQOM2JmHO",
        "colab_type": "code",
        "colab": {}
      },
      "source": [
        "mysock.close()"
      ],
      "execution_count": 18,
      "outputs": []
    },
    {
      "cell_type": "markdown",
      "metadata": {
        "id": "sXlnB3asKtpG",
        "colab_type": "text"
      },
      "source": [
        "# ***2.   VIA \" URLIB \" LIBRARY***"
      ]
    },
    {
      "cell_type": "code",
      "metadata": {
        "id": "-wMWbQJDK-tN",
        "colab_type": "code",
        "colab": {}
      },
      "source": [
        "import urllib"
      ],
      "execution_count": 19,
      "outputs": []
    },
    {
      "cell_type": "markdown",
      "metadata": {
        "id": "Xay3IARMK_hH",
        "colab_type": "text"
      },
      "source": [
        "**CREATING A COONECTION TO SERVER AND MAKING REQUEST**\n"
      ]
    },
    {
      "cell_type": "code",
      "metadata": {
        "id": "NoKX3gobLJiO",
        "colab_type": "code",
        "colab": {}
      },
      "source": [
        "fname = urllib.request.urlopen(\"http://data.pr4e.org/intro-short.txt\")"
      ],
      "execution_count": 22,
      "outputs": []
    },
    {
      "cell_type": "markdown",
      "metadata": {
        "id": "XI4EMoSQLaJN",
        "colab_type": "text"
      },
      "source": [
        "**FETCHING RECEIVED DATA FROM SERVER**"
      ]
    },
    {
      "cell_type": "code",
      "metadata": {
        "id": "oMOwJSo5LhHU",
        "colab_type": "code",
        "colab": {
          "base_uri": "https://localhost:8080/",
          "height": 187
        },
        "outputId": "d407afc7-ad83-44af-b6fe-a0621d04a4bc"
      },
      "source": [
        "for line in fname:\n",
        "  print(line.decode().rstrip())"
      ],
      "execution_count": 23,
      "outputs": [
        {
          "output_type": "stream",
          "text": [
            "Why should you learn to write programs?\n",
            "\n",
            "Writing programs (or programming) is a very creative\n",
            "and rewarding activity.  You can write programs for\n",
            "many reasons, ranging from making your living to solving\n",
            "a difficult data analysis problem to having fun to helping\n",
            "someone else solve a problem.  This book assumes that\n",
            "everyone needs to know how to program, and that once\n",
            "you know how to program you will figure out what you want\n",
            "to do with your newfound skills.\n"
          ],
          "name": "stdout"
        }
      ]
    },
    {
      "cell_type": "markdown",
      "metadata": {
        "id": "Hr2mbIoRNVij",
        "colab_type": "text"
      },
      "source": [
        "\n",
        "\n",
        "---\n",
        "\n"
      ]
    },
    {
      "cell_type": "markdown",
      "metadata": {
        "id": "yjfNuGCkNGUT",
        "colab_type": "text"
      },
      "source": [
        "***COUTNING THE OCCURENCES OF WORDS IN THE RECEIVED DATA***"
      ]
    },
    {
      "cell_type": "code",
      "metadata": {
        "id": "QTMt_wy5NdcB",
        "colab_type": "code",
        "colab": {
          "base_uri": "https://localhost:8080/",
          "height": 54
        },
        "outputId": "06e1ef54-e27a-4c66-f4a8-02a611568f21"
      },
      "source": [
        "import urllib.request\n",
        "file = u.request.urlopen(\"http://data.pr4e.org/intro-short.txt\")\n",
        "count = dict()\n",
        "for lines in file:\n",
        "  words = lines.decode().rsplit()\n",
        "  for word in words:\n",
        "    count[word] = count.get(word,0) + 1\n",
        "print(count)"
      ],
      "execution_count": 5,
      "outputs": [
        {
          "output_type": "stream",
          "text": [
            "{'Why': 1, 'should': 1, 'you': 4, 'learn': 1, 'to': 8, 'write': 2, 'programs?': 1, 'Writing': 1, 'programs': 2, '(or': 1, 'programming)': 1, 'is': 1, 'a': 3, 'very': 1, 'creative': 1, 'and': 2, 'rewarding': 1, 'activity.': 1, 'You': 1, 'can': 1, 'for': 1, 'many': 1, 'reasons,': 1, 'ranging': 1, 'from': 1, 'making': 1, 'your': 2, 'living': 1, 'solving': 1, 'difficult': 1, 'data': 1, 'analysis': 1, 'problem': 1, 'having': 1, 'fun': 1, 'helping': 1, 'someone': 1, 'else': 1, 'solve': 1, 'problem.': 1, 'This': 1, 'book': 1, 'assumes': 1, 'that': 2, 'everyone': 1, 'needs': 1, 'know': 2, 'how': 2, 'program,': 1, 'once': 1, 'program': 1, 'will': 1, 'figure': 1, 'out': 1, 'what': 1, 'want': 1, 'do': 1, 'with': 1, 'newfound': 1, 'skills.': 1}\n"
          ],
          "name": "stdout"
        }
      ]
    },
    {
      "cell_type": "markdown",
      "metadata": {
        "id": "ti5xi9wD1eaR",
        "colab_type": "text"
      },
      "source": [
        "***READING HTML FILE VIA URLLIB***"
      ]
    },
    {
      "cell_type": "code",
      "metadata": {
        "id": "fAQck0bE1pB8",
        "colab_type": "code",
        "colab": {
          "base_uri": "https://localhost:8080/",
          "height": 1000
        },
        "outputId": "c9002186-d8bd-4815-c547-907cf0ff4910"
      },
      "source": [
        "import urllib.request\n",
        "s = urllib.request.urlopen(\"http://www.eecs.umich.edu/courses/eecs373.w05/lecture/errorcode.html\").read()\n",
        "s.decode().splitlines()"
      ],
      "execution_count": 6,
      "outputs": [
        {
          "output_type": "execute_result",
          "data": {
            "text/plain": [
              "['<html>',\n",
              " '<head>',\n",
              " '<title>',\n",
              " 'Error detecting and correcting codes',\n",
              " '</title>',\n",
              " '</head>',\n",
              " '<body>',\n",
              " '<h1>',\n",
              " 'Error detecting and correcting codes',\n",
              " '</h1>',\n",
              " '<p>',\n",
              " '<i>',\n",
              " '(Notes for EECS 373, Winter 2005)',\n",
              " '</i>',\n",
              " '<p>',\n",
              " 'Data can be corrupted in transmission or storage by a',\n",
              " 'variety of undesirable phenomenon, such as radio interference,',\n",
              " 'electrical noise, power surges, bad spots on disks or tapes,',\n",
              " 'or scratches or dirt on CD or DVD media.',\n",
              " 'It is useful to have a way to to detect (and sometimes correct)',\n",
              " 'such data corruption.',\n",
              " '',\n",
              " '<p>',\n",
              " 'Errors come in several forms.',\n",
              " 'The most common situation is that a bit in a stream of',\n",
              " 'data gets flipped (a 0 becomes a 1 or a 1 becomes a 0).',\n",
              " 'It is also possible for a bit to get deleted,',\n",
              " 'or for an extra bit to be inserted.',\n",
              " 'In some situations, burst errors occur,',\n",
              " 'where several successive bits are affected.',\n",
              " '',\n",
              " '<h2>',\n",
              " 'Parity bit',\n",
              " '</h2>',\n",
              " '<p>',\n",
              " 'We can detect single errors with a <b>parity bit</b>.',\n",
              " 'The parity bit is computed as the exclusive-OR (even parity) or',\n",
              " 'exclusive-NOR (odd parity) of all of the other bits in the word.',\n",
              " 'Thus, the resulting word with a parity bit will always have an even',\n",
              " '(for even parity) or odd (for odd parity) number of 1 bits in it.',\n",
              " 'If a single bit is flipped in transmission or storage,',\n",
              " 'the received data will have the wrong parity,',\n",
              " 'so we will know something bad has happened.',\n",
              " '',\n",
              " '<p>',\n",
              " \"Note that we can't tell which bit was corrupted\",\n",
              " '(or if it was just the parity bit that was corrupted).',\n",
              " 'Double errors go undetected, triple errors get',\n",
              " \"detected, quadruple errors don't, etc.\",\n",
              " 'Random garbage has a 50% probability of being accepted as valid.',\n",
              " '',\n",
              " '<p>',\n",
              " 'Overhead is small; if we put a parity bit on each byte,',\n",
              " 'add 1 bit for each 8, so data transmitted or stored grows',\n",
              " 'by 12.5%.  Larger words reduce the overhead:  16 bit words: 6.25%,',\n",
              " '32 bit words: 3.125%, 64 bit words: 1.5625%.',\n",
              " '',\n",
              " '<p>',\n",
              " 'Original data plus correction bits form a <b>codeword</b>.',\n",
              " 'The codeword, generally larger than the original data,',\n",
              " 'is used as the representation for that data for transmission',\n",
              " 'or storage purposes.',\n",
              " 'An ordered pair notation is often used, (c,d) represents',\n",
              " 'a codeword of c bits encoding a data word of d bits.',\n",
              " '',\n",
              " '<h2>',\n",
              " 'Error correcting codes',\n",
              " '</h2>',\n",
              " '<p>',\n",
              " \"What if just detecting errors isn't enough?\",\n",
              " 'What if we want to find and fix the bad data.',\n",
              " '',\n",
              " '<p>',\n",
              " '<h3>',\n",
              " 'Brute force repetition',\n",
              " '</h3>',\n",
              " '<p>',\n",
              " 'Can repeat each bit three times:',\n",
              " '00011011 becomes 000 000 000 111 111 000 111 111',\n",
              " 'Any single bit error can be corrected; just take',\n",
              " 'a majority vote on each group of three.',\n",
              " 'Double errors within a group will still corrupt the data.',\n",
              " 'Overhead is large; 8 bits became 24; 200% increase in data size.',\n",
              " '<p>',\n",
              " 'Can extend to correct even more errors;',\n",
              " 'repeat each bit 5 times to correct up to 2 errors per group,',\n",
              " 'but even more overhead.',\n",
              " '',\n",
              " '<h3>',\n",
              " 'More efficient approaches to single error correction',\n",
              " '</h3>',\n",
              " '',\n",
              " '<p>',\n",
              " 'Just repeating the bits is fairly inefficient.',\n",
              " 'We could do better if we could have a compact',\n",
              " 'way to figure out which bit got flipped (if any).',\n",
              " 'As the number of bits in a word gets large,',\n",
              " 'things are going to get very complicated very fast.',\n",
              " 'We need some systematic way to handle things.',\n",
              " '',\n",
              " '<h3>',\n",
              " 'Hamming distance',\n",
              " '</h3>',\n",
              " '<p>',\n",
              " 'A key issue in designing any error correcting code',\n",
              " 'is making sure that any two valid codewords',\n",
              " 'are sufficiently dissimilar so that corruption of',\n",
              " 'a single bit (or possibly a small number of bits)',\n",
              " 'does not turn one valid code word into another.',\n",
              " 'To measure the distance between two codewords, we just',\n",
              " 'count the number of bits that differ between them.',\n",
              " 'If we are doing this in hardware or software,',\n",
              " 'we can just XOR the two codewords and count',\n",
              " 'the number of 1 bits in the result.',\n",
              " 'This count is called the <b>Hamming distance</b>',\n",
              " '(Hamming, 1950).',\n",
              " '',\n",
              " '<p>',\n",
              " 'The key significance of the hamming distance is that if two',\n",
              " 'codewords have a Hamming distance of <i>d</i> between them,',\n",
              " 'then it would take <i>d</i> single bit errors to turn one',\n",
              " 'of them into the other.',\n",
              " '',\n",
              " '<p>',\n",
              " 'For a set of multiple codewords, the Hamming distance of the',\n",
              " 'set is the minimum distance between any pair of its members.',\n",
              " '',\n",
              " '<h3>',\n",
              " 'Minimum Hamming distance for error detection',\n",
              " '</h3>',\n",
              " '',\n",
              " '<p>',\n",
              " 'To design a code that can detect <i>d</i> single bit errors,',\n",
              " 'the minimum Hamming distance for the set of codewords',\n",
              " 'must be <i>d</i> + 1 (or more).',\n",
              " 'That way, no set of <i>d</i> errors in a single bit',\n",
              " 'could turn one valid codeword into some other valid codeword.',\n",
              " '',\n",
              " '<h3>',\n",
              " 'Minimum Hamming distance for error correction',\n",
              " '</h3>',\n",
              " '',\n",
              " '<p>',\n",
              " 'To design a code that can correct <i>d</i> single bit errors,',\n",
              " 'a minimum distance of 2<i>d</i> + 1 is required.',\n",
              " 'That puts the valid codewords so far apart that even after',\n",
              " 'bit errors in <i>d</i> of the bits, it is still less',\n",
              " 'than half the distance to another valid codeword,',\n",
              " 'so the receiver will be able to determine what the',\n",
              " 'correct starting codeword was.',\n",
              " '',\n",
              " '<h3>',\n",
              " 'Pracical Hamming implementation',\n",
              " '</h3>',\n",
              " '',\n",
              " '<p>',\n",
              " 'Here are a few useful references (all PDF format):',\n",
              " '',\n",
              " '<ul>',\n",
              " '<li><a href=\"hamming1.pdf\">Error Correction with Hamming Codes</a>',\n",
              " '<li><a href=\"hamming2.pdf\">Calculating the Hamming Code</a>',\n",
              " '<li><a href=\"hamming3.pdf\">Applying Hamming Code to blocks of data</a>',\n",
              " '<ul>',\n",
              " '',\n",
              " '</body>',\n",
              " '</html>']"
            ]
          },
          "metadata": {
            "tags": []
          },
          "execution_count": 6
        }
      ]
    }
  ]
}