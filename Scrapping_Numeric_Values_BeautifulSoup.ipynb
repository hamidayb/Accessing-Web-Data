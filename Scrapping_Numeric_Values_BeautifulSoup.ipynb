{
  "nbformat": 4,
  "nbformat_minor": 0,
  "metadata": {
    "colab": {
      "name": "Scrapping-Numeric-Values-BeautifulSoup",
      "provenance": []
    },
    "kernelspec": {
      "name": "python3",
      "display_name": "Python 3"
    }
  },
  "cells": [
    {
      "cell_type": "markdown",
      "metadata": {
        "id": "G5g9nyreqjGX",
        "colab_type": "text"
      },
      "source": [
        "## **Scraping Numbers from HTML using BeautifulSoup:**\n",
        "\n",
        "In this assignment you will write a Python program similar to http://www.py4e.com/code3/urllink2.py. The program will use urllib to read the HTML from the data files below, and parse the data, extracting numbers and compute the sum of the numbers in the file.\n",
        "\n",
        "We provide two files for this assignment. One is a sample file where we give you the sum for your testing and the other is the actual data you need to process for the assignment.\n",
        "\n",
        "Sample data: http://py4e-data.dr-chuck.net/comments_42.html (Sum=2553)\n",
        "Actual data: http://py4e-data.dr-chuck.net/comments_928468.html (Sum ends with 5)\n",
        "You do not need to save these files to your folder since your program will read the data directly from the URL. Note: Each student will have a distinct data url for the assignment - so only use your own data url for analysis.\n",
        "Data Format\n",
        "The file is a table of names and comment counts. You can ignore most of the data in the file except for lines like the following:\n",
        "\n",
        "<tr><td>Modu</td><td><span class=\"comments\">90</span></td></tr>\n",
        "<tr><td>Kenzie</td><td><span class=\"comments\">88</span></td></tr>\n",
        "<tr><td>Hubert</td><td><span class=\"comments\">87</span></td></tr>\n",
        "You are to find all the <span> tags in the file and pull out the numbers from the tag and sum the numbers.\n",
        "Look at the sample code provided. It shows how to find all of a certain kind of tag, loop through the tags and extract the various aspects of the tags.\n",
        "\n",
        "...\n",
        "#### Retrieve all of the anchor tags\n",
        "    tags = soup('a')\n",
        "    for tag in tags:\n",
        "       print('TAG:',tag)\n",
        "       print('URL:',tag.get('href', None))\n",
        "       print('Contents:',tag.contents[0])\n",
        "       print('Attrs:',tag.attrs)\n",
        "\n",
        "**TASK**\n",
        "\n",
        "You need to adjust this code to look for span tags and pull out the text content of the span tag, convert them to integers and add them up to complete the assignment."
      ]
    },
    {
      "cell_type": "code",
      "metadata": {
        "id": "--DqH16_oa9-",
        "colab_type": "code",
        "colab": {
          "base_uri": "https://localhost:8080/",
          "height": 34
        },
        "outputId": "aa5c5162-1012-4b18-ba93-2d0ff1a8b8a6"
      },
      "source": [
        "from urllib.request import urlopen\n",
        "from bs4 import BeautifulSoup\n",
        "import ssl\n",
        "\n",
        "# Ignore SSL certificate errors\n",
        "ctx = ssl.create_default_context()\n",
        "ctx.check_hostname = False\n",
        "ctx.verify_mode = ssl.CERT_NONE\n",
        "\n",
        "html = urlopen(\"http://py4e-data.dr-chuck.net/comments_928468.html\", context=ctx).read()\n",
        "soup = BeautifulSoup(html, \"html.parser\")\n",
        "# Retrieve all of the anchor tags\n",
        "tags = soup('span')\n",
        "sum = 0\n",
        "for num in tags:\n",
        "    # Look at the parts of a tag\n",
        "    sum += eval(num.contents[0])\n",
        "print(\"Sum: \",sum)"
      ],
      "execution_count": 3,
      "outputs": [
        {
          "output_type": "stream",
          "text": [
            "Sum:  2605\n"
          ],
          "name": "stdout"
        }
      ]
    }
  ]
}