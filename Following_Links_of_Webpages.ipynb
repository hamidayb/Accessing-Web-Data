{
  "nbformat": 4,
  "nbformat_minor": 0,
  "metadata": {
    "colab": {
      "name": "Following Links of Webpages",
      "provenance": [],
      "collapsed_sections": []
    },
    "kernelspec": {
      "name": "python3",
      "display_name": "Python 3"
    }
  },
  "cells": [
    {
      "cell_type": "markdown",
      "metadata": {
        "id": "gM8IDgRe8jT9",
        "colab_type": "text"
      },
      "source": [
        "## **Following Links in Python**\n",
        "\n",
        "In this assignment you will write a Python program that expands on http://www.py4e.com/code3/urllinks.py. The program will use urllib to read the HTML from the data files below, extract the href= vaues from the anchor tags, scan for a tag that is in a particular position relative to the first name in the list, follow that link and repeat the process a number of times and report the last name you find.\n",
        "\n",
        "We provide two files for this assignment. One is a sample file where we give you the name for your testing and the other is the actual data you need to process for the assignment\n",
        "\n",
        "**Sample problem**: Start at http://py4e-data.dr-chuck.net/known_by_Fikret.html\n",
        "\n",
        "Find the link at position 3 (the first name is 1). Follow that link. Repeat this process 4 times. The answer is the last name that you retrieve.\n",
        "Sequence of names: Fikret Montgomery Mhairade Butchi Anayah\n",
        "Last name in sequence: Anayah\n",
        "\n",
        "**Actual problem**: Start at: http://py4e-data.dr-chuck.net/known_by_Dearbhla.html\n",
        "\n",
        "Find the link at position 18 (the first name is 1). Follow that link. Repeat this process 7 times. The answer is the last name that you retrieve.\n",
        "Hint: The first character of the name of the last page that you will load is: M\n",
        "### **Strategy**\n",
        "The web pages tweak the height between the links and hide the page after a few seconds to make it difficult for you to do the assignment without writing a Python program. But frankly with a little effort and patience you can overcome these attempts to make it a little harder to complete the assignment without writing a Python program. But that is not the point. The point is to write a clever Python program to solve the program.\n",
        "\n",
        "**Sample execution**\n",
        "\n",
        "Here is a sample execution of a solution:\n",
        "#\n",
        "    \n",
        "    $ python3 solution.py\n",
        "    Enter URL: http://py4e-data.dr-chuck.net/known_by_Fikret.html\n",
        "    Enter count: 4\n",
        "    Enter position: 3\n",
        "    Retrieving: http://py4e-data.dr-chuck.net/known_by_Fikret.html\n",
        "    Retrieving: http://py4e-data.dr-chuck.net/known_by_Montgomery.html\n",
        "    Retrieving: http://py4e-data.dr-chuck.net/known_by_Mhairade.html\n",
        "    Retrieving: http://py4e-data.dr-chuck.net/known_by_Butchi.html\n",
        "    Retrieving: http://py4e-data.dr-chuck.net/known_by_Anayah.html\n",
        "    The answer to the assignment for this execution is \"Anayah\"."
      ]
    },
    {
      "cell_type": "code",
      "metadata": {
        "id": "N9HRQ9E78iR5",
        "colab_type": "code",
        "colab": {
          "base_uri": "https://localhost:8080/",
          "height": 170
        },
        "outputId": "5701fb22-bc37-434f-c1da-41d4bafb693d"
      },
      "source": [
        "import urllib.request as urlr\n",
        "from bs4 import BeautifulSoup as bs\n",
        "import ssl\n",
        "\n",
        "ctx = ssl.create_default_context()\n",
        "ctx.check_hostname = False\n",
        "ctx.verify_mode = ssl.CERT_NONE\n",
        "\n",
        "url = \"http://py4e-data.dr-chuck.net/known_by_Dearbhla.html\"\n",
        "for i in range(7):\n",
        "  page = urlr.urlopen(url,context=ctx)\n",
        "  soup = bs(page, 'html.parser')\n",
        "  print(\"{}. Retrieving: {}...\".format(i,url))\n",
        "  tags = soup('a')\n",
        "  url = tags[17].get('href',None)\n",
        "\n",
        "print(\"{}. Retrieving: {}...\".format(i+1,url))\n",
        "print(\"Answer:\",tags[17].contents[0])"
      ],
      "execution_count": 2,
      "outputs": [
        {
          "output_type": "stream",
          "text": [
            "0. Retrieving: http://py4e-data.dr-chuck.net/known_by_Dearbhla.html...\n",
            "1. Retrieving: http://py4e-data.dr-chuck.net/known_by_Ida.html...\n",
            "2. Retrieving: http://py4e-data.dr-chuck.net/known_by_Elissa.html...\n",
            "3. Retrieving: http://py4e-data.dr-chuck.net/known_by_Johnathan.html...\n",
            "4. Retrieving: http://py4e-data.dr-chuck.net/known_by_Farhan.html...\n",
            "5. Retrieving: http://py4e-data.dr-chuck.net/known_by_Bailee.html...\n",
            "6. Retrieving: http://py4e-data.dr-chuck.net/known_by_Avi.html...\n",
            "7. Retrieving: http://py4e-data.dr-chuck.net/known_by_Milla.html...\n",
            "Answer: Milla\n"
          ],
          "name": "stdout"
        }
      ]
    }
  ]
}