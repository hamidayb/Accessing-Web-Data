{
  "nbformat": 4,
  "nbformat_minor": 0,
  "metadata": {
    "colab": {
      "name": "Accessing Web Data",
      "provenance": []
    },
    "kernelspec": {
      "name": "python3",
      "display_name": "Python 3"
    }
  },
  "cells": [
    {
      "cell_type": "markdown",
      "metadata": {
        "id": "JXVLqiKsGNQV",
        "colab_type": "text"
      },
      "source": [
        "# ***ACCESSING DATA FROM WEB***"
      ]
    },
    {
      "cell_type": "markdown",
      "metadata": {
        "id": "P4r9WigXGUtX",
        "colab_type": "text"
      },
      "source": [
        "Data can be accessed directly from the web by creating socket and then request data from the server."
      ]
    },
    {
      "cell_type": "markdown",
      "metadata": {
        "id": "AzuMLZE_KGvC",
        "colab_type": "text"
      },
      "source": [
        "We can access data from web by using socket and urllib libraries of python."
      ]
    },
    {
      "cell_type": "markdown",
      "metadata": {
        "id": "HN3QrhQjKc9I",
        "colab_type": "text"
      },
      "source": [
        "## ***1.  VIA \" SOCKET \" LIBRARY**"
      ]
    },
    {
      "cell_type": "code",
      "metadata": {
        "id": "LrwSEIhQGtWh",
        "colab_type": "code",
        "colab": {}
      },
      "source": [
        "import socket"
      ],
      "execution_count": null,
      "outputs": []
    },
    {
      "cell_type": "markdown",
      "metadata": {
        "id": "QnA2CWH-GnjV",
        "colab_type": "text"
      },
      "source": [
        "**CREATING A SOCKET**"
      ]
    },
    {
      "cell_type": "code",
      "metadata": {
        "id": "0H9iOzn0GxNX",
        "colab_type": "code",
        "colab": {}
      },
      "source": [
        "mysock = socket.socket(socket.AF_INET, socket.SOCK_STREAM)"
      ],
      "execution_count": null,
      "outputs": []
    },
    {
      "cell_type": "markdown",
      "metadata": {
        "id": "gCn-ENdKHCrG",
        "colab_type": "text"
      },
      "source": [
        "**CREATING A CONNECTION WITH HOST** \n",
        "\n",
        "For this you have to provide the host name and the port number."
      ]
    },
    {
      "cell_type": "code",
      "metadata": {
        "id": "1g47NhqtHeQy",
        "colab_type": "code",
        "colab": {}
      },
      "source": [
        "mysock.connect((\"data.pr4e.org\",80))"
      ],
      "execution_count": null,
      "outputs": []
    },
    {
      "cell_type": "markdown",
      "metadata": {
        "id": "lzYsU4z6H1ix",
        "colab_type": "text"
      },
      "source": [
        "**MAKING A REQUEST TO SERVER**\n",
        "\n",
        "For this, you have to encode your request to binary because packets are transmitted in binary form. So encode() method is used to convert our request which is in string to a binary value."
      ]
    },
    {
      "cell_type": "code",
      "metadata": {
        "id": "k_BkpPcmH9gH",
        "colab_type": "code",
        "colab": {}
      },
      "source": [
        "cmd = \"GET http://data.pr4e.org/intro-short.txt HTTP/1.0\\r\\n\\r\\n\".encode()"
      ],
      "execution_count": null,
      "outputs": []
    },
    {
      "cell_type": "code",
      "metadata": {
        "id": "Ne70UgOAIb_e",
        "colab_type": "code",
        "colab": {
          "base_uri": "https://localhost:8080/",
          "height": 34
        },
        "outputId": "19ffc92b-157c-4160-fe75-074546fcaf15"
      },
      "source": [
        "mysock.send(cmd)"
      ],
      "execution_count": null,
      "outputs": [
        {
          "output_type": "execute_result",
          "data": {
            "text/plain": [
              "53"
            ]
          },
          "metadata": {
            "tags": []
          },
          "execution_count": 16
        }
      ]
    },
    {
      "cell_type": "markdown",
      "metadata": {
        "id": "aYNn68psIlXO",
        "colab_type": "text"
      },
      "source": [
        "**FETCHING RECEIVED DATA FROM SERVER**\n",
        "\n",
        "The data received from server is in binary form. So you have to decode it into string using decode() method."
      ]
    },
    {
      "cell_type": "code",
      "metadata": {
        "id": "DkUx1tCOI7vI",
        "colab_type": "code",
        "colab": {
          "base_uri": "https://localhost:8080/",
          "height": 442
        },
        "outputId": "a95b6033-f375-4af7-85e2-24a00b7e43a1"
      },
      "source": [
        "while True:\n",
        "  data = mysock.recv(512)   # Packet of 512 Bytes of data is being received\n",
        "  if(len(data)<1):\n",
        "    break\n",
        "  print(data.decode())"
      ],
      "execution_count": null,
      "outputs": [
        {
          "output_type": "stream",
          "text": [
            "HTTP/1.1 200 OK\r\n",
            "Date: Sun, 06 Sep 2020 06:42:50 GMT\r\n",
            "Server: Apache/2.4.18 (Ubuntu)\r\n",
            "Last-Modified: Sat, 13 May 2017 11:22:22 GMT\r\n",
            "ETag: \"1d3-54f6609240717\"\r\n",
            "Accept-Ranges: bytes\r\n",
            "Content-Length: 467\r\n",
            "Cache-Control: max-age=0, no-cache, no-store, must-revalidate\r\n",
            "Pragma: no-cache\r\n",
            "Expires: Wed, 11 Jan 1984 05:00:00 GMT\r\n",
            "Connection: close\r\n",
            "Content-Type: text/plain\r\n",
            "\r\n",
            "Why should you learn to write programs?\n",
            "\n",
            "Writing programs (or programming) is a very creative \n",
            "and rewarding activity.  You can write programs\n",
            " for \n",
            "many reasons, ranging from making your living to solving\n",
            "a difficult data analysis problem to having fun to helping\n",
            "someone else solve a problem.  This book assumes that \n",
            "everyone needs to know how to program, and that once \n",
            "you know how to program you will figure out what you want \n",
            "to do with your newfound skills.  \n",
            "\n"
          ],
          "name": "stdout"
        }
      ]
    },
    {
      "cell_type": "markdown",
      "metadata": {
        "id": "z5qQuyfCJfBm",
        "colab_type": "text"
      },
      "source": [
        "**CLOSING CONNECTION**"
      ]
    },
    {
      "cell_type": "code",
      "metadata": {
        "id": "a0_cQOM2JmHO",
        "colab_type": "code",
        "colab": {}
      },
      "source": [
        "mysock.close()"
      ],
      "execution_count": null,
      "outputs": []
    },
    {
      "cell_type": "markdown",
      "metadata": {
        "id": "sXlnB3asKtpG",
        "colab_type": "text"
      },
      "source": [
        "## ***2.   VIA \" URLIB \" LIBRARY***"
      ]
    },
    {
      "cell_type": "code",
      "metadata": {
        "id": "-wMWbQJDK-tN",
        "colab_type": "code",
        "colab": {}
      },
      "source": [
        "import urllib"
      ],
      "execution_count": null,
      "outputs": []
    },
    {
      "cell_type": "markdown",
      "metadata": {
        "id": "Xay3IARMK_hH",
        "colab_type": "text"
      },
      "source": [
        "**CREATING A COONECTION TO SERVER AND MAKING REQUEST**\n"
      ]
    },
    {
      "cell_type": "code",
      "metadata": {
        "id": "NoKX3gobLJiO",
        "colab_type": "code",
        "colab": {}
      },
      "source": [
        "fname = urllib.request.urlopen(\"http://data.pr4e.org/intro-short.txt\")"
      ],
      "execution_count": null,
      "outputs": []
    },
    {
      "cell_type": "markdown",
      "metadata": {
        "id": "XI4EMoSQLaJN",
        "colab_type": "text"
      },
      "source": [
        "**FETCHING RECEIVED DATA FROM SERVER**"
      ]
    },
    {
      "cell_type": "code",
      "metadata": {
        "id": "oMOwJSo5LhHU",
        "colab_type": "code",
        "colab": {
          "base_uri": "https://localhost:8080/",
          "height": 187
        },
        "outputId": "d407afc7-ad83-44af-b6fe-a0621d04a4bc"
      },
      "source": [
        "for line in fname:\n",
        "  print(line.decode().rstrip())"
      ],
      "execution_count": null,
      "outputs": [
        {
          "output_type": "stream",
          "text": [
            "Why should you learn to write programs?\n",
            "\n",
            "Writing programs (or programming) is a very creative\n",
            "and rewarding activity.  You can write programs for\n",
            "many reasons, ranging from making your living to solving\n",
            "a difficult data analysis problem to having fun to helping\n",
            "someone else solve a problem.  This book assumes that\n",
            "everyone needs to know how to program, and that once\n",
            "you know how to program you will figure out what you want\n",
            "to do with your newfound skills.\n"
          ],
          "name": "stdout"
        }
      ]
    },
    {
      "cell_type": "markdown",
      "metadata": {
        "id": "Hr2mbIoRNVij",
        "colab_type": "text"
      },
      "source": [
        "\n",
        "\n",
        "---\n",
        "\n"
      ]
    },
    {
      "cell_type": "markdown",
      "metadata": {
        "id": "yjfNuGCkNGUT",
        "colab_type": "text"
      },
      "source": [
        "***COUTNING THE OCCURENCES OF WORDS IN THE RECEIVED DATA***"
      ]
    },
    {
      "cell_type": "code",
      "metadata": {
        "id": "QTMt_wy5NdcB",
        "colab_type": "code",
        "colab": {
          "base_uri": "https://localhost:8080/",
          "height": 54
        },
        "outputId": "06e1ef54-e27a-4c66-f4a8-02a611568f21"
      },
      "source": [
        "import urllib.request\n",
        "file = u.request.urlopen(\"http://data.pr4e.org/intro-short.txt\")\n",
        "count = dict()\n",
        "for lines in file:\n",
        "  words = lines.decode().rsplit()\n",
        "  for word in words:\n",
        "    count[word] = count.get(word,0) + 1\n",
        "print(count)"
      ],
      "execution_count": null,
      "outputs": [
        {
          "output_type": "stream",
          "text": [
            "{'Why': 1, 'should': 1, 'you': 4, 'learn': 1, 'to': 8, 'write': 2, 'programs?': 1, 'Writing': 1, 'programs': 2, '(or': 1, 'programming)': 1, 'is': 1, 'a': 3, 'very': 1, 'creative': 1, 'and': 2, 'rewarding': 1, 'activity.': 1, 'You': 1, 'can': 1, 'for': 1, 'many': 1, 'reasons,': 1, 'ranging': 1, 'from': 1, 'making': 1, 'your': 2, 'living': 1, 'solving': 1, 'difficult': 1, 'data': 1, 'analysis': 1, 'problem': 1, 'having': 1, 'fun': 1, 'helping': 1, 'someone': 1, 'else': 1, 'solve': 1, 'problem.': 1, 'This': 1, 'book': 1, 'assumes': 1, 'that': 2, 'everyone': 1, 'needs': 1, 'know': 2, 'how': 2, 'program,': 1, 'once': 1, 'program': 1, 'will': 1, 'figure': 1, 'out': 1, 'what': 1, 'want': 1, 'do': 1, 'with': 1, 'newfound': 1, 'skills.': 1}\n"
          ],
          "name": "stdout"
        }
      ]
    },
    {
      "cell_type": "markdown",
      "metadata": {
        "id": "ti5xi9wD1eaR",
        "colab_type": "text"
      },
      "source": [
        "***READING HTML FILE VIA URLLIB***"
      ]
    },
    {
      "cell_type": "code",
      "metadata": {
        "id": "fAQck0bE1pB8",
        "colab_type": "code",
        "colab": {
          "base_uri": "https://localhost:8080/",
          "height": 1000
        },
        "outputId": "c9002186-d8bd-4815-c547-907cf0ff4910"
      },
      "source": [
        "import urllib.request\n",
        "s = urllib.request.urlopen(\"http://www.eecs.umich.edu/courses/eecs373.w05/lecture/errorcode.html\").read()\n",
        "s.decode().splitlines()"
      ],
      "execution_count": null,
      "outputs": [
        {
          "output_type": "execute_result",
          "data": {
            "text/plain": [
              "['<html>',\n",
              " '<head>',\n",
              " '<title>',\n",
              " 'Error detecting and correcting codes',\n",
              " '</title>',\n",
              " '</head>',\n",
              " '<body>',\n",
              " '<h1>',\n",
              " 'Error detecting and correcting codes',\n",
              " '</h1>',\n",
              " '<p>',\n",
              " '<i>',\n",
              " '(Notes for EECS 373, Winter 2005)',\n",
              " '</i>',\n",
              " '<p>',\n",
              " 'Data can be corrupted in transmission or storage by a',\n",
              " 'variety of undesirable phenomenon, such as radio interference,',\n",
              " 'electrical noise, power surges, bad spots on disks or tapes,',\n",
              " 'or scratches or dirt on CD or DVD media.',\n",
              " 'It is useful to have a way to to detect (and sometimes correct)',\n",
              " 'such data corruption.',\n",
              " '',\n",
              " '<p>',\n",
              " 'Errors come in several forms.',\n",
              " 'The most common situation is that a bit in a stream of',\n",
              " 'data gets flipped (a 0 becomes a 1 or a 1 becomes a 0).',\n",
              " 'It is also possible for a bit to get deleted,',\n",
              " 'or for an extra bit to be inserted.',\n",
              " 'In some situations, burst errors occur,',\n",
              " 'where several successive bits are affected.',\n",
              " '',\n",
              " '<h2>',\n",
              " 'Parity bit',\n",
              " '</h2>',\n",
              " '<p>',\n",
              " 'We can detect single errors with a <b>parity bit</b>.',\n",
              " 'The parity bit is computed as the exclusive-OR (even parity) or',\n",
              " 'exclusive-NOR (odd parity) of all of the other bits in the word.',\n",
              " 'Thus, the resulting word with a parity bit will always have an even',\n",
              " '(for even parity) or odd (for odd parity) number of 1 bits in it.',\n",
              " 'If a single bit is flipped in transmission or storage,',\n",
              " 'the received data will have the wrong parity,',\n",
              " 'so we will know something bad has happened.',\n",
              " '',\n",
              " '<p>',\n",
              " \"Note that we can't tell which bit was corrupted\",\n",
              " '(or if it was just the parity bit that was corrupted).',\n",
              " 'Double errors go undetected, triple errors get',\n",
              " \"detected, quadruple errors don't, etc.\",\n",
              " 'Random garbage has a 50% probability of being accepted as valid.',\n",
              " '',\n",
              " '<p>',\n",
              " 'Overhead is small; if we put a parity bit on each byte,',\n",
              " 'add 1 bit for each 8, so data transmitted or stored grows',\n",
              " 'by 12.5%.  Larger words reduce the overhead:  16 bit words: 6.25%,',\n",
              " '32 bit words: 3.125%, 64 bit words: 1.5625%.',\n",
              " '',\n",
              " '<p>',\n",
              " 'Original data plus correction bits form a <b>codeword</b>.',\n",
              " 'The codeword, generally larger than the original data,',\n",
              " 'is used as the representation for that data for transmission',\n",
              " 'or storage purposes.',\n",
              " 'An ordered pair notation is often used, (c,d) represents',\n",
              " 'a codeword of c bits encoding a data word of d bits.',\n",
              " '',\n",
              " '<h2>',\n",
              " 'Error correcting codes',\n",
              " '</h2>',\n",
              " '<p>',\n",
              " \"What if just detecting errors isn't enough?\",\n",
              " 'What if we want to find and fix the bad data.',\n",
              " '',\n",
              " '<p>',\n",
              " '<h3>',\n",
              " 'Brute force repetition',\n",
              " '</h3>',\n",
              " '<p>',\n",
              " 'Can repeat each bit three times:',\n",
              " '00011011 becomes 000 000 000 111 111 000 111 111',\n",
              " 'Any single bit error can be corrected; just take',\n",
              " 'a majority vote on each group of three.',\n",
              " 'Double errors within a group will still corrupt the data.',\n",
              " 'Overhead is large; 8 bits became 24; 200% increase in data size.',\n",
              " '<p>',\n",
              " 'Can extend to correct even more errors;',\n",
              " 'repeat each bit 5 times to correct up to 2 errors per group,',\n",
              " 'but even more overhead.',\n",
              " '',\n",
              " '<h3>',\n",
              " 'More efficient approaches to single error correction',\n",
              " '</h3>',\n",
              " '',\n",
              " '<p>',\n",
              " 'Just repeating the bits is fairly inefficient.',\n",
              " 'We could do better if we could have a compact',\n",
              " 'way to figure out which bit got flipped (if any).',\n",
              " 'As the number of bits in a word gets large,',\n",
              " 'things are going to get very complicated very fast.',\n",
              " 'We need some systematic way to handle things.',\n",
              " '',\n",
              " '<h3>',\n",
              " 'Hamming distance',\n",
              " '</h3>',\n",
              " '<p>',\n",
              " 'A key issue in designing any error correcting code',\n",
              " 'is making sure that any two valid codewords',\n",
              " 'are sufficiently dissimilar so that corruption of',\n",
              " 'a single bit (or possibly a small number of bits)',\n",
              " 'does not turn one valid code word into another.',\n",
              " 'To measure the distance between two codewords, we just',\n",
              " 'count the number of bits that differ between them.',\n",
              " 'If we are doing this in hardware or software,',\n",
              " 'we can just XOR the two codewords and count',\n",
              " 'the number of 1 bits in the result.',\n",
              " 'This count is called the <b>Hamming distance</b>',\n",
              " '(Hamming, 1950).',\n",
              " '',\n",
              " '<p>',\n",
              " 'The key significance of the hamming distance is that if two',\n",
              " 'codewords have a Hamming distance of <i>d</i> between them,',\n",
              " 'then it would take <i>d</i> single bit errors to turn one',\n",
              " 'of them into the other.',\n",
              " '',\n",
              " '<p>',\n",
              " 'For a set of multiple codewords, the Hamming distance of the',\n",
              " 'set is the minimum distance between any pair of its members.',\n",
              " '',\n",
              " '<h3>',\n",
              " 'Minimum Hamming distance for error detection',\n",
              " '</h3>',\n",
              " '',\n",
              " '<p>',\n",
              " 'To design a code that can detect <i>d</i> single bit errors,',\n",
              " 'the minimum Hamming distance for the set of codewords',\n",
              " 'must be <i>d</i> + 1 (or more).',\n",
              " 'That way, no set of <i>d</i> errors in a single bit',\n",
              " 'could turn one valid codeword into some other valid codeword.',\n",
              " '',\n",
              " '<h3>',\n",
              " 'Minimum Hamming distance for error correction',\n",
              " '</h3>',\n",
              " '',\n",
              " '<p>',\n",
              " 'To design a code that can correct <i>d</i> single bit errors,',\n",
              " 'a minimum distance of 2<i>d</i> + 1 is required.',\n",
              " 'That puts the valid codewords so far apart that even after',\n",
              " 'bit errors in <i>d</i> of the bits, it is still less',\n",
              " 'than half the distance to another valid codeword,',\n",
              " 'so the receiver will be able to determine what the',\n",
              " 'correct starting codeword was.',\n",
              " '',\n",
              " '<h3>',\n",
              " 'Pracical Hamming implementation',\n",
              " '</h3>',\n",
              " '',\n",
              " '<p>',\n",
              " 'Here are a few useful references (all PDF format):',\n",
              " '',\n",
              " '<ul>',\n",
              " '<li><a href=\"hamming1.pdf\">Error Correction with Hamming Codes</a>',\n",
              " '<li><a href=\"hamming2.pdf\">Calculating the Hamming Code</a>',\n",
              " '<li><a href=\"hamming3.pdf\">Applying Hamming Code to blocks of data</a>',\n",
              " '<ul>',\n",
              " '',\n",
              " '</body>',\n",
              " '</html>']"
            ]
          },
          "metadata": {
            "tags": []
          },
          "execution_count": 6
        }
      ]
    },
    {
      "cell_type": "markdown",
      "metadata": {
        "id": "Bb-5iaB7MAF9",
        "colab_type": "text"
      },
      "source": [
        "\n",
        "\n",
        "---\n",
        "\n"
      ]
    },
    {
      "cell_type": "markdown",
      "metadata": {
        "id": "yXVnw1-QMB0y",
        "colab_type": "text"
      },
      "source": [
        "## **BEAUTIFULSOUP**"
      ]
    },
    {
      "cell_type": "markdown",
      "metadata": {
        "id": "md18EEHNMJwi",
        "colab_type": "text"
      },
      "source": [
        "Beautiful Soup is a Python library for pulling data out of HTML and XML files.\n",
        "\n",
        "Let extract all anchor tags from the webpage."
      ]
    },
    {
      "cell_type": "code",
      "metadata": {
        "id": "wZ9ozhY-Mj8P",
        "colab_type": "code",
        "colab": {}
      },
      "source": [
        "import urllib.request\n",
        "from bs4 import BeautifulSoup\n",
        "import ssl"
      ],
      "execution_count": 2,
      "outputs": []
    },
    {
      "cell_type": "markdown",
      "metadata": {
        "id": "1QL_gUDLMwjS",
        "colab_type": "text"
      },
      "source": [
        "Now we have to write code for **ssl certificates**. This below code will ignore errors like\n",
        "\n",
        "![download.png](data:image/png;base64,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)![main-qimg-7bdc39bc5891e9c0ba02b8a77904d839.webp](data:image/webp;base64,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)"
      ]
    },
    {
      "cell_type": "code",
      "metadata": {
        "id": "uwuec0P8Msdp",
        "colab_type": "code",
        "colab": {}
      },
      "source": [
        "ctx = ssl.create_default_context()\n",
        "ctx.check_hostname = False\n",
        "ctx.verify_mode = ssl.CERT_NONE"
      ],
      "execution_count": 3,
      "outputs": []
    },
    {
      "cell_type": "markdown",
      "metadata": {
        "id": "ifZ7VSmINO_P",
        "colab_type": "text"
      },
      "source": [
        "**Reading all web data using urrlib**"
      ]
    },
    {
      "cell_type": "code",
      "metadata": {
        "id": "Yk07p3b2NpWG",
        "colab_type": "code",
        "colab": {}
      },
      "source": [
        "page = urllib.request.urlopen(\"http://dr-chuck.com/\", context = ctx).read()"
      ],
      "execution_count": 4,
      "outputs": []
    },
    {
      "cell_type": "markdown",
      "metadata": {
        "id": "o5NPbGpUN3mz",
        "colab_type": "text"
      },
      "source": [
        "**Implementing BeautifulSoup Code**"
      ]
    },
    {
      "cell_type": "code",
      "metadata": {
        "id": "XBWPrtkGN-P-",
        "colab_type": "code",
        "colab": {}
      },
      "source": [
        "soup = BeautifulSoup(page, 'html.parser')"
      ],
      "execution_count": 5,
      "outputs": []
    },
    {
      "cell_type": "markdown",
      "metadata": {
        "id": "kOQiWZtlONgY",
        "colab_type": "text"
      },
      "source": [
        "**Extracting all anchor tags from the webpage**"
      ]
    },
    {
      "cell_type": "code",
      "metadata": {
        "id": "plf4Hx1hONIP",
        "colab_type": "code",
        "colab": {
          "base_uri": "https://localhost:8080/",
          "height": 748
        },
        "outputId": "75e2a692-dc62-418a-b06d-9b1c2785a847"
      },
      "source": [
        "tags = soup('a')    #tags contains a set of all anchor tags\n",
        "for tag in tags:    #tag iterate over the tuples in the tags set elements.\n",
        "  print(tag.get('href',None))   #href is an attribute of the anchor tag which contains the links, thus in this code we are extracting all e=the links contained in the webpage."
      ],
      "execution_count": 6,
      "outputs": [
        {
          "output_type": "stream",
          "text": [
            "https://www.learnerprivacy.org/\n",
            "https://www.si.umich.edu/\n",
            "https://www.ratemyprofessors.com/ShowRatings.jsp?tid=1159280\n",
            "https://www.learnerprivacy.org\n",
            "https://www.dr-chuck.com/csev-blog/\n",
            "https://www.twitter.com/drchuck/\n",
            "https://www.dr-chuck.com/dr-chuck/resume/speaking.htm\n",
            "https://www.slideshare.net/csev\n",
            "/dr-chuck/resume/index.htm\n",
            "https://amzn.to/1K5Q81K\n",
            "https://www.coursera.org/instructor/drchuck\n",
            "http://afs.dr-chuck.com/papers/\n",
            "https://itunes.apple.com/us/podcast/computing-conversations/id731495760\n",
            "https://www.youtube.com/playlist?list=PLHJB2bhmgB7dFuY7HmrXLj5BmHGKTD-3R\n",
            "https://developers.imsglobal.org/\n",
            "https://www.youtube.com/user/csev\n",
            "https://vimeo.com/drchuck/videos\n",
            "https://backpack.openbadges.org/share/4f76699ddb399d162a00b89a452074b3/\n",
            "https://www.linkedin.com/in/charlesseverance/\n",
            "https://www.researchgate.net/profile/Charles_Severance/\n",
            "https://www.learnerprivacy.org/\n",
            "https://www.py4e.com/\n",
            "https://www.dj4e.com/\n",
            "https://www.wa4e.com/\n",
            "https://www.coursera.org/course/insidetheinternet\n",
            "https://www.sakaiproject.org/\n",
            "https://www.tsugi.org/\n",
            "https://developers.imsglobal.org/\n",
            "http://www.py4e.com/book\n",
            "/sakai-book\n",
            "http://www.amazon.com/gp/product/1624311393/ref=as_li_ss_tl?ie=UTF8&camp=1789&creative=390957&creativeASIN=1624311393&linkCode=as2&tag=drchu02-20\n",
            "http://www.amazon.com/gp/product/059680069X/ref=as_li_ss_tl?ie=UTF8&camp=1789&creative=390957&creativeASIN=059680069X&linkCode=as2&tag=drchu02-20\n",
            "http://www.amazon.com/Performance-Computing-Architectures-Optimization-Benchmarks/dp/156592312X/\n",
            "http://oreilly.com/catalog/9781565923126/\n",
            "http://cnx.org/content/col11136/latest/\n",
            "http://www.youtube.com/playlist?list=PLHJB2bhmgB7dFuY7HmrXLj5BmHGKTD-3R\n",
            "https://www.vimeo.com/17207620\n",
            "https://www.youtube.com/watch?v=BVKpW02hsrU\n",
            "https://www.youtube.com/watch?v=sa2WsgCvn7c\n",
            "https://www.vimeo.com/17213019\n",
            "https://www.youtube.com/watch?v=FJ078sO35M0\n",
            "http://afs.dr-chuck.com/citoolkit\n",
            "https://twitter.com/drchuck\n"
          ],
          "name": "stdout"
        }
      ]
    },
    {
      "cell_type": "markdown",
      "metadata": {
        "id": "CDqqwVYrQOGR",
        "colab_type": "text"
      },
      "source": [
        "\n",
        "\n",
        "---\n",
        "\n"
      ]
    },
    {
      "cell_type": "markdown",
      "metadata": {
        "id": "rTHHweQvQPOF",
        "colab_type": "text"
      },
      "source": [
        "### ***EXTRACTING CLASS NAMES OF DIV***"
      ]
    },
    {
      "cell_type": "code",
      "metadata": {
        "id": "MZZe6dnfQjmd",
        "colab_type": "code",
        "colab": {}
      },
      "source": [
        "import urllib.request\n",
        "from bs4 import BeautifulSoup\n",
        "import ssl"
      ],
      "execution_count": 8,
      "outputs": []
    },
    {
      "cell_type": "code",
      "metadata": {
        "id": "NZnrMkYSQny2",
        "colab_type": "code",
        "colab": {}
      },
      "source": [
        "ctx = ssl.create_default_context()\n",
        "ctx.check_hostname = False\n",
        "ctx.verify_mode = ssl.CERT_NONE"
      ],
      "execution_count": 9,
      "outputs": []
    },
    {
      "cell_type": "code",
      "metadata": {
        "id": "mWu72EJ5Qv-Y",
        "colab_type": "code",
        "colab": {}
      },
      "source": [
        "page = urllib.request.urlopen(\"https://www.coursera.org/learn/python-network-data/exam/Qv4jH/reading-web-data-from-python\", context = ctx).read()\n",
        "soup = BeautifulSoup(page, 'html.parser')"
      ],
      "execution_count": 15,
      "outputs": []
    },
    {
      "cell_type": "code",
      "metadata": {
        "id": "_NC-ku7WQ9FF",
        "colab_type": "code",
        "colab": {
          "base_uri": "https://localhost:8080/",
          "height": 187
        },
        "outputId": "b36231f1-a1c0-4c8e-c9b4-dc669a19291d"
      },
      "source": [
        "tags = soup('div')\n",
        "for tag in tags:\n",
        "  print(tag.get('class',None))"
      ],
      "execution_count": 20,
      "outputs": [
        {
          "output_type": "stream",
          "text": [
            "None\n",
            "None\n",
            "['rc-MetatagsWrapper']\n",
            "['rc-OndemandAppLoggedOut']\n",
            "None\n",
            "['rc-AuthenticationModal']\n",
            "['rc-Modal', 'layer']\n",
            "['c-modal-overlay']\n",
            "['c-modal-x-out']\n",
            "['c-modal-content']\n"
          ],
          "name": "stdout"
        }
      ]
    },
    {
      "cell_type": "markdown",
      "metadata": {
        "id": "CmYavAkOobs2",
        "colab_type": "text"
      },
      "source": [
        "\n",
        "\n",
        "---\n",
        "\n",
        "\n",
        "### ***SCRAPING NUMERIC VALUES OF WEBPAGE***\n"
      ]
    },
    {
      "cell_type": "code",
      "metadata": {
        "id": "-w5-yyXQo0KP",
        "colab_type": "code",
        "colab": {}
      },
      "source": [
        "import urllib.request\n",
        "from bs4 import BeautifulSoup\n",
        "import ssl"
      ],
      "execution_count": 1,
      "outputs": []
    },
    {
      "cell_type": "code",
      "metadata": {
        "id": "nNnMsoxYpGOT",
        "colab_type": "code",
        "colab": {}
      },
      "source": [
        "ctx = ssl.create_default_context()\n",
        "ctx.check_hostname = False\n",
        "ctx.verify_mode = ssl.CERT_NONE"
      ],
      "execution_count": 2,
      "outputs": []
    },
    {
      "cell_type": "code",
      "metadata": {
        "id": "mv18qxnhpJma",
        "colab_type": "code",
        "colab": {}
      },
      "source": [
        "page = urllib.request.urlopen(\"http://py4e-data.dr-chuck.net/comments_928468.html\", context=ctx)\n",
        "soup = BeautifulSoup(page,'html.parser')"
      ],
      "execution_count": 3,
      "outputs": []
    },
    {
      "cell_type": "code",
      "metadata": {
        "id": "YXAmomVxpbQK",
        "colab_type": "code",
        "colab": {
          "base_uri": "https://localhost:8080/",
          "height": 34
        },
        "outputId": "7c216a30-db08-4722-e893-29f282fc3789"
      },
      "source": [
        "tag = soup('span')\n",
        "sum = 0\n",
        "for num in tag:\n",
        "  sum += eval(num.contents[0])\n",
        "print(sum) "
      ],
      "execution_count": 4,
      "outputs": [
        {
          "output_type": "stream",
          "text": [
            "2605\n"
          ],
          "name": "stdout"
        }
      ]
    }
  ]
}