{
  "nbformat": 4,
  "nbformat_minor": 0,
  "metadata": {
    "colab": {
      "name": "Extracting Data from XML",
      "provenance": []
    },
    "kernelspec": {
      "name": "python3",
      "display_name": "Python 3"
    }
  },
  "cells": [
    {
      "cell_type": "markdown",
      "metadata": {
        "id": "jsEzjPArxACz",
        "colab_type": "text"
      },
      "source": [
        "# **Extracting Data from XML**\n",
        "\n",
        "In this assignment you will write a Python program somewhat similar to http://www.py4e.com/code3/geoxml.py. \n",
        "The program will prompt for a URL, read the XML data from that URL using **urllib** and then parse and extract the comment counts from the XML data, compute the sum of the numbers in the file.\n",
        "\n",
        "We provide two files for this assignment. One is a sample file where we give you the sum for your testing and the other is the actual data you need to process for the assignment.\n",
        "\n",
        "Sample data: http://py4e-data.dr-chuck.net/comments_42.xml (Sum=2553)\n",
        "Actual data: http://py4e-data.dr-chuck.net/comments_928470.xml (Sum ends with 99)\n",
        "You do not need to save these files to your folder since your program will read the data directly from the URL. **Note:** Each student will have a distinct data url for the assignment - so only use your own data url for analysis.\n",
        "###**Data Format and Approach**\n",
        "The data consists of a number of names and comment counts in XML as follows:\n",
        "\n",
        "    <comment>\n",
        "      <name>Matthias</name>\n",
        "      <count>97</count>\n",
        "    </comment>\n",
        "You are to look through all the <comment> tags and find the <count> values sum the numbers. The closest sample code that shows how to parse XML is geoxml.py. But since the nesting of the elements in our data is different than the data we are parsing in that sample code you will have to make real changes to the code.\n",
        "To make the code a little simpler, you can use an XPath selector string to look through the entire tree of XML for any tag named 'count' with the following line of code:\n",
        "\n",
        "counts = tree.findall('.//count')\n",
        "Take a look at the Python ElementTree documentation and look for the supported XPath syntax for details. You could also work from the top of the XML down to the comments node and then loop through the child nodes of the comments node.\n",
        "\n",
        "###**Sample Execution**\n",
        "\n",
        "    Enter location: http://py4e-data.dr-chuck.net/comments_42.xml\n",
        "    Retrieving http://py4e-data.dr-chuck.net/comments_42.xml\n",
        "    Retrieved 4189 characters\n",
        "    Count: 50\n",
        "    Sum: 2..."
      ]
    },
    {
      "cell_type": "markdown",
      "metadata": {
        "id": "stQK2v4nyOoh",
        "colab_type": "text"
      },
      "source": [
        "\n",
        "\n",
        "---\n",
        "\n"
      ]
    },
    {
      "cell_type": "markdown",
      "metadata": {
        "id": "8IK0QpAYx-ln",
        "colab_type": "text"
      },
      "source": [
        "## **SOLUTION:**"
      ]
    },
    {
      "cell_type": "code",
      "metadata": {
        "id": "uyUFmQL7x7ts",
        "colab_type": "code",
        "colab": {
          "base_uri": "https://localhost:8080/",
          "height": 68
        },
        "outputId": "33fb6bc2-8a4b-45f3-bd34-fa3fd0907f6d"
      },
      "source": [
        "from urllib.request import urlopen as open\n",
        "import xml.etree.ElementTree as ET\n",
        "\n",
        "url = input(\"Enter address: \")\n",
        "page = open(url).read()\n",
        "\n",
        "sum =0\n",
        "char = 0\n",
        "stuff = ET.fromstring(page)\n",
        "lst = stuff.findall(\".//count\")\n",
        "\n",
        "print(\"Retrieving: \",url)\n",
        "\n",
        "for item in lst:\n",
        "    sum += eval(item.text)\n",
        "print(\"Sum: \",sum)"
      ],
      "execution_count": 1,
      "outputs": [
        {
          "output_type": "stream",
          "text": [
            "Enter address: http://py4e-data.dr-chuck.net/comments_928470.xml\n",
            "Retrieving:  http://py4e-data.dr-chuck.net/comments_928470.xml\n",
            "Sum:  2899\n"
          ],
          "name": "stdout"
        }
      ]
    }
  ]
}