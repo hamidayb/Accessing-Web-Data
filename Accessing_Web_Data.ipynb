{
  "nbformat": 4,
  "nbformat_minor": 0,
  "metadata": {
    "colab": {
      "name": "Accessing Web Data",
      "provenance": []
    },
    "kernelspec": {
      "name": "python3",
      "display_name": "Python 3"
    }
  },
  "cells": [
    {
      "cell_type": "markdown",
      "metadata": {
        "id": "JXVLqiKsGNQV",
        "colab_type": "text"
      },
      "source": [
        "# ***ACCESSING DATA FROM WEB***"
      ]
    },
    {
      "cell_type": "markdown",
      "metadata": {
        "id": "P4r9WigXGUtX",
        "colab_type": "text"
      },
      "source": [
        "Data can be accessed directly from the web by creating socket and then request data from the server."
      ]
    },
    {
      "cell_type": "markdown",
      "metadata": {
        "id": "AzuMLZE_KGvC",
        "colab_type": "text"
      },
      "source": [
        "We can access data from web by using socket and urllib libraries of python."
      ]
    },
    {
      "cell_type": "markdown",
      "metadata": {
        "id": "HN3QrhQjKc9I",
        "colab_type": "text"
      },
      "source": [
        "# ***1.  VIA \" SOCKET \" LIBRARY**"
      ]
    },
    {
      "cell_type": "code",
      "metadata": {
        "id": "LrwSEIhQGtWh",
        "colab_type": "code",
        "colab": {}
      },
      "source": [
        "import socket"
      ],
      "execution_count": 12,
      "outputs": []
    },
    {
      "cell_type": "markdown",
      "metadata": {
        "id": "QnA2CWH-GnjV",
        "colab_type": "text"
      },
      "source": [
        "**CREATING A SOCKET**"
      ]
    },
    {
      "cell_type": "code",
      "metadata": {
        "id": "0H9iOzn0GxNX",
        "colab_type": "code",
        "colab": {}
      },
      "source": [
        "mysock = socket.socket(socket.AF_INET, socket.SOCK_STREAM)"
      ],
      "execution_count": 13,
      "outputs": []
    },
    {
      "cell_type": "markdown",
      "metadata": {
        "id": "gCn-ENdKHCrG",
        "colab_type": "text"
      },
      "source": [
        "**CREATING A CONNECTION WITH HOST** \n",
        "\n",
        "For this you have to provide the host name and the port number."
      ]
    },
    {
      "cell_type": "code",
      "metadata": {
        "id": "1g47NhqtHeQy",
        "colab_type": "code",
        "colab": {}
      },
      "source": [
        "mysock.connect((\"data.pr4e.org\",80))"
      ],
      "execution_count": 14,
      "outputs": []
    },
    {
      "cell_type": "markdown",
      "metadata": {
        "id": "lzYsU4z6H1ix",
        "colab_type": "text"
      },
      "source": [
        "**MAKING A REQUEST TO SERVER**\n",
        "\n",
        "For this, you have to encode your request to binary because packets are transmitted in binary form. So encode() method is used to convert our request which is in string to a binary value."
      ]
    },
    {
      "cell_type": "code",
      "metadata": {
        "id": "k_BkpPcmH9gH",
        "colab_type": "code",
        "colab": {}
      },
      "source": [
        "cmd = \"GET http://data.pr4e.org/intro-short.txt HTTP/1.0\\r\\n\\r\\n\".encode()"
      ],
      "execution_count": 15,
      "outputs": []
    },
    {
      "cell_type": "code",
      "metadata": {
        "id": "Ne70UgOAIb_e",
        "colab_type": "code",
        "colab": {
          "base_uri": "https://localhost:8080/",
          "height": 34
        },
        "outputId": "19ffc92b-157c-4160-fe75-074546fcaf15"
      },
      "source": [
        "mysock.send(cmd)"
      ],
      "execution_count": 16,
      "outputs": [
        {
          "output_type": "execute_result",
          "data": {
            "text/plain": [
              "53"
            ]
          },
          "metadata": {
            "tags": []
          },
          "execution_count": 16
        }
      ]
    },
    {
      "cell_type": "markdown",
      "metadata": {
        "id": "aYNn68psIlXO",
        "colab_type": "text"
      },
      "source": [
        "**FETCHING RECEIVED DATA FROM SERVER**\n",
        "\n",
        "The data received from server is in binary form. So you have to decode it into string using decode() method."
      ]
    },
    {
      "cell_type": "code",
      "metadata": {
        "id": "DkUx1tCOI7vI",
        "colab_type": "code",
        "colab": {
          "base_uri": "https://localhost:8080/",
          "height": 442
        },
        "outputId": "a95b6033-f375-4af7-85e2-24a00b7e43a1"
      },
      "source": [
        "while True:\n",
        "  data = mysock.recv(512)   # Packet of 512 Bytes of data is being received\n",
        "  if(len(data)<1):\n",
        "    break\n",
        "  print(data.decode())"
      ],
      "execution_count": 17,
      "outputs": [
        {
          "output_type": "stream",
          "text": [
            "HTTP/1.1 200 OK\r\n",
            "Date: Sun, 06 Sep 2020 06:42:50 GMT\r\n",
            "Server: Apache/2.4.18 (Ubuntu)\r\n",
            "Last-Modified: Sat, 13 May 2017 11:22:22 GMT\r\n",
            "ETag: \"1d3-54f6609240717\"\r\n",
            "Accept-Ranges: bytes\r\n",
            "Content-Length: 467\r\n",
            "Cache-Control: max-age=0, no-cache, no-store, must-revalidate\r\n",
            "Pragma: no-cache\r\n",
            "Expires: Wed, 11 Jan 1984 05:00:00 GMT\r\n",
            "Connection: close\r\n",
            "Content-Type: text/plain\r\n",
            "\r\n",
            "Why should you learn to write programs?\n",
            "\n",
            "Writing programs (or programming) is a very creative \n",
            "and rewarding activity.  You can write programs\n",
            " for \n",
            "many reasons, ranging from making your living to solving\n",
            "a difficult data analysis problem to having fun to helping\n",
            "someone else solve a problem.  This book assumes that \n",
            "everyone needs to know how to program, and that once \n",
            "you know how to program you will figure out what you want \n",
            "to do with your newfound skills.  \n",
            "\n"
          ],
          "name": "stdout"
        }
      ]
    },
    {
      "cell_type": "markdown",
      "metadata": {
        "id": "z5qQuyfCJfBm",
        "colab_type": "text"
      },
      "source": [
        "**CLOSING CONNECTION**"
      ]
    },
    {
      "cell_type": "code",
      "metadata": {
        "id": "a0_cQOM2JmHO",
        "colab_type": "code",
        "colab": {}
      },
      "source": [
        "mysock.close()"
      ],
      "execution_count": 18,
      "outputs": []
    },
    {
      "cell_type": "markdown",
      "metadata": {
        "id": "sXlnB3asKtpG",
        "colab_type": "text"
      },
      "source": [
        "# ***2.   VIA \" URLIB \" LIBRARY***"
      ]
    },
    {
      "cell_type": "code",
      "metadata": {
        "id": "-wMWbQJDK-tN",
        "colab_type": "code",
        "colab": {}
      },
      "source": [
        "import urllib"
      ],
      "execution_count": 19,
      "outputs": []
    },
    {
      "cell_type": "markdown",
      "metadata": {
        "id": "Xay3IARMK_hH",
        "colab_type": "text"
      },
      "source": [
        "**CREATING A COONECTION TO SERVER AND MAKING REQUEST**\n"
      ]
    },
    {
      "cell_type": "code",
      "metadata": {
        "id": "NoKX3gobLJiO",
        "colab_type": "code",
        "colab": {}
      },
      "source": [
        "fname = urllib.request.urlopen(\"http://data.pr4e.org/intro-short.txt\")"
      ],
      "execution_count": 22,
      "outputs": []
    },
    {
      "cell_type": "markdown",
      "metadata": {
        "id": "XI4EMoSQLaJN",
        "colab_type": "text"
      },
      "source": [
        "**FETCHING RECEIVED DATA FROM SERVER**"
      ]
    },
    {
      "cell_type": "code",
      "metadata": {
        "id": "oMOwJSo5LhHU",
        "colab_type": "code",
        "colab": {
          "base_uri": "https://localhost:8080/",
          "height": 187
        },
        "outputId": "d407afc7-ad83-44af-b6fe-a0621d04a4bc"
      },
      "source": [
        "for line in fname:\n",
        "  print(line.decode().rstrip())"
      ],
      "execution_count": 23,
      "outputs": [
        {
          "output_type": "stream",
          "text": [
            "Why should you learn to write programs?\n",
            "\n",
            "Writing programs (or programming) is a very creative\n",
            "and rewarding activity.  You can write programs for\n",
            "many reasons, ranging from making your living to solving\n",
            "a difficult data analysis problem to having fun to helping\n",
            "someone else solve a problem.  This book assumes that\n",
            "everyone needs to know how to program, and that once\n",
            "you know how to program you will figure out what you want\n",
            "to do with your newfound skills.\n"
          ],
          "name": "stdout"
        }
      ]
    }
  ]
}